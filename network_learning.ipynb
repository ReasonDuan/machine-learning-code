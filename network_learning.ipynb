{
  "nbformat": 4,
  "nbformat_minor": 0,
  "metadata": {
    "colab": {
      "provenance": [],
      "authorship_tag": "ABX9TyM87a1RyY7bxi1LfW0+nVEw",
      "include_colab_link": true
    },
    "kernelspec": {
      "name": "python3",
      "display_name": "Python 3"
    },
    "language_info": {
      "name": "python"
    }
  },
  "cells": [
    {
      "cell_type": "markdown",
      "metadata": {
        "id": "view-in-github",
        "colab_type": "text"
      },
      "source": [
        "<a href=\"https://colab.research.google.com/github/ReasonDuan/machine-learning-code/blob/main/network_learning.ipynb\" target=\"_parent\"><img src=\"https://colab.research.google.com/assets/colab-badge.svg\" alt=\"Open In Colab\"/></a>"
      ]
    },
    {
      "cell_type": "markdown",
      "source": [
        "## 前置函数\n"
      ],
      "metadata": {
        "id": "APqEo5VmHUzV"
      }
    },
    {
      "cell_type": "code",
      "source": [
        "import numpy as np\n",
        "\n",
        "\n",
        "# 激活函数\n",
        "def sigmoid(x):\n",
        " return 1 / (1 + np.exp(-x))\n",
        "\n",
        "def sigmoid_grad(x):\n",
        "    return (1.0 - sigmoid(x)) * sigmoid(x)\n",
        "\n",
        "# 最大值\n",
        "def softmax(a):\n",
        " exp_a = np.exp(a)\n",
        " sum_exp_a = np.sum(exp_a)\n",
        " y = exp_a / sum_exp_a\n",
        " return y\n",
        "\n",
        "\n",
        "# 函数f在x处的梯度计算\n",
        "def numerical_gradient(f, x):\n",
        " h = 1e-4 # 0.0001\n",
        " grad = np.zeros_like(x) # 生成和x形状相同的数组\n",
        " for idx in range(x.size):\n",
        "  tmp_val = x[idx]\n",
        "  # f(x+h)的计算\n",
        "  x[idx] = tmp_val + h\n",
        "  fxh1 = f(x)\n",
        "  # f(x-h)的计算\n",
        "  x[idx] = tmp_val - h\n",
        "  fxh2 = f(x)\n",
        "  grad[idx] = (fxh1 - fxh2) / (2*h)\n",
        "  x[idx] = tmp_val # 还原值\n",
        " return grad\n",
        "\n",
        "# 交叉熵，监督数据为one-hot模式\n",
        "def cross_entropy_error(y, t):\n",
        " if y.ndim == 1:\n",
        "  t = t.reshape(1, t.size)\n",
        "  y = y.reshape(1, y.size)\n",
        " batch_size = y.shape[0]\n",
        " return -np.sum(t * np.log(y + 1e-7)) / batch_size\n",
        "\n",
        "\n",
        "# 交叉熵, 监督数据为指定值 2，8\n",
        "def cross_entropy_error_02(y, t):\n",
        " if y.ndim == 1:\n",
        "  t = t.reshape(1, t.size)\n",
        "  y = y.reshape(1, y.size)\n",
        " batch_size = y.shape[0]\n",
        " return -np.sum(np.log(y[np.arange(batch_size), t] + 1e-7)) / batch_size\n",
        "\n",
        "\n",
        "def change_one_hot_label(X):\n",
        "  T = np.zeros((X.size, 10))\n",
        "  for idx, row in enumerate(T):\n",
        "      row[X[idx]] = 1\n",
        "\n",
        "  return T\n"
      ],
      "metadata": {
        "id": "P-aOkmQ6HV1V"
      },
      "execution_count": 41,
      "outputs": []
    },
    {
      "cell_type": "markdown",
      "source": [
        "## 创建神经网络类\n",
        "\n",
        "创建一个2层神经网络的类"
      ],
      "metadata": {
        "id": "1SEDGeDmfvBU"
      }
    },
    {
      "cell_type": "code",
      "execution_count": 39,
      "metadata": {
        "id": "E6DH0onefFIM"
      },
      "outputs": [],
      "source": [
        "\n",
        "import sys, os\n",
        "sys.path.append(os.pardir)\n",
        "\n",
        "class TwoLayerNet:\n",
        "  def __init__(self, input_size, hidden_size, output_size, weight_init_std=0.01):\n",
        "    self.params = {}\n",
        "    self.params['W1'] = weight_init_std * np.random.randn(input_size, hidden_size)\n",
        "    self.params['b1'] = np.zeros(hidden_size)\n",
        "    self.params['W2'] = weight_init_std * np.random.randn(hidden_size, output_size)\n",
        "    self.params['b2'] = np.zeros(output_size)\n",
        "\n",
        "  # 预测\n",
        "  def predict(self, x):\n",
        "    W1, W2 = self.params['W1'], self.params['W2']\n",
        "    b1, b2 = self.params['b1'], self.params['b2']\n",
        "\n",
        "    a1 = np.dot(x, W1) + b1\n",
        "    z1 = sigmoid(a1)\n",
        "    a2 = np.dot(z1, W2) + b2\n",
        "    y = softmax(a2)\n",
        "    return y\n",
        "\n",
        "  # 损失率， x: 输入数据, t: 监督数据\n",
        "  def loss(self, x, t):\n",
        "    y = self.predict(x)\n",
        "    return cross_entropy_error(y, t)\n",
        "\n",
        "  # 准确率\n",
        "  def accuracy(self, x, t):\n",
        "    y = self.predict(x)\n",
        "    y = np.argmax(y, axis=1)\n",
        "    t = np.argmax(t, axis=1)\n",
        "\n",
        "    accuracy = np.sum(y == t) / float(x.shape[0])\n",
        "    return accuracy\n",
        "\n",
        "  # 权重参数相对损失函数的梯度计算\n",
        "  def numerical_gradient_full(self, x, t):\n",
        "    loss_W = lambda W: self.loss(x, t)\n",
        "\n",
        "    grads = {}\n",
        "    grads['W1'] = numerical_gradient(loss_W, self.params['W1'])\n",
        "    grads['b1'] = numerical_gradient(loss_W, self.params['b1'])\n",
        "    grads['W2'] = numerical_gradient(loss_W, self.params['W2'])\n",
        "    grads['b2'] = numerical_gradient(loss_W, self.params['b2'])\n",
        "\n",
        "    return grads\n",
        "\n",
        "  def gradient(self, x, t):\n",
        "    W1, W2 = self.params['W1'], self.params['W2']\n",
        "    b1, b2 = self.params['b1'], self.params['b2']\n",
        "    grads = {}\n",
        "\n",
        "    batch_num = x.shape[0]\n",
        "\n",
        "    # forward\n",
        "    a1 = np.dot(x, W1) + b1\n",
        "    z1 = sigmoid(a1)\n",
        "    a2 = np.dot(z1, W2) + b2\n",
        "    y = softmax(a2)\n",
        "\n",
        "    # backward\n",
        "    dy = (y - t) / batch_num\n",
        "    grads['W2'] = np.dot(z1.T, dy)\n",
        "    grads['b2'] = np.sum(dy, axis=0)\n",
        "\n",
        "    da1 = np.dot(dy, W2.T)\n",
        "    dz1 = sigmoid_grad(a1) * da1\n",
        "    grads['W1'] = np.dot(x.T, dz1)\n",
        "    grads['b1'] = np.sum(dz1, axis=0)\n",
        "\n",
        "    return grads"
      ]
    },
    {
      "cell_type": "code",
      "source": [],
      "metadata": {
        "id": "pxfN5pyDHSVo"
      },
      "execution_count": null,
      "outputs": []
    },
    {
      "cell_type": "markdown",
      "source": [
        "## 拉取数据\n",
        "获取训练数据，并进行初始化\n",
        "**加粗文字**"
      ],
      "metadata": {
        "id": "swdLUgS5k40P"
      }
    },
    {
      "cell_type": "code",
      "source": [
        "!pip install -q tensorflow\n",
        "import tensorflow as tf\n",
        "\n",
        "# 加载 MNIST 数据集\n",
        "mnist = tf.keras.datasets.mnist\n",
        "(x_train, t_train), (x_test, t_test) = mnist.load_data()\n",
        "\n",
        "x_train = x_train.reshape(x_train.shape[0], -1)\n",
        "x_test = x_test.reshape(x_test.shape[0], -1)\n",
        "t_train = change_one_hot_label(t_train)\n",
        "t_test = change_one_hot_label(t_test)\n",
        "\n",
        "\n",
        "# (x_train, t_train), (x_test, t_test) = load_mnist(normalize=True, one_hot_laobel = True)\n",
        "train_loss_list = []\n",
        "train_acc_list = []\n",
        "test_acc_list = []\n",
        "\n",
        "# 超参数\n",
        "iters_num = 10000\n",
        "train_size = x_train.shape[0]\n",
        "batch_size = 100\n",
        "learning_rate = 0.1\n",
        "\n",
        "# 平均每个epoch的重复次数\n",
        "iter_per_epoch = max(train_size / batch_size, 1)\n"
      ],
      "metadata": {
        "id": "wYdnNZGklCwQ"
      },
      "execution_count": 37,
      "outputs": []
    },
    {
      "cell_type": "markdown",
      "source": [
        "## 开始训练"
      ],
      "metadata": {
        "id": "y8FjJPXllUV4"
      }
    },
    {
      "cell_type": "code",
      "source": [
        "!pip install matplotlib\n",
        "\n",
        "import matplotlib.pyplot as plt\n",
        "\n",
        "network = TwoLayerNet(input_size=784, hidden_size=50, output_size=10)\n",
        "\n",
        "for i in range(iters_num):\n",
        "  batch_mask = np.random.choice(train_size, batch_size)\n",
        "  x_batch = x_train[batch_mask]\n",
        "  t_batch = t_train[batch_mask]\n",
        "\n",
        "  grad = network.gradient(x_batch, t_batch)\n",
        "\n",
        "  for key in ('W1', 'b1', 'W2', 'b2'):\n",
        "    network.params[key] -= learning_rate * grad[key]\n",
        "\n",
        "  loss = network.loss(x_batch, t_batch)\n",
        "  train_loss_list.append(loss)\n",
        "  # 计算每个epoch的识别精度\n",
        "  if i % iter_per_epoch == 0:\n",
        "    train_acc = network.accuracy(x_train, t_train)\n",
        "    test_acc = network.accuracy(x_test, t_test)\n",
        "    train_acc_list.append(train_acc)\n",
        "    test_acc_list.append(test_acc)\n",
        "    print(\"train acc, test acc | \" + str(train_acc) + \", \" + str(test_acc))\n",
        "\n",
        "\n",
        "# 绘制图形\n",
        "markers = {'train': 'o', 'test': 's'}\n",
        "x = np.arange(len(train_acc_list))\n",
        "plt.plot(x, train_acc_list, label='train acc')\n",
        "plt.plot(x, test_acc_list, label='test acc', linestyle='--')\n",
        "plt.xlabel(\"epochs\")\n",
        "plt.ylabel(\"accuracy\")\n",
        "plt.ylim(0, 1.0)\n",
        "plt.legend(loc='lower right')\n",
        "plt.show()"
      ],
      "metadata": {
        "colab": {
          "base_uri": "https://localhost:8080/"
        },
        "id": "B53n-KellXeQ",
        "outputId": "4a9589bd-0ded-44d3-b347-ac1f29bd1749"
      },
      "execution_count": 44,
      "outputs": [
        {
          "output_type": "stream",
          "name": "stdout",
          "text": [
            "Requirement already satisfied: matplotlib in /usr/local/lib/python3.10/dist-packages (3.7.1)\n",
            "Requirement already satisfied: contourpy>=1.0.1 in /usr/local/lib/python3.10/dist-packages (from matplotlib) (1.3.0)\n",
            "Requirement already satisfied: cycler>=0.10 in /usr/local/lib/python3.10/dist-packages (from matplotlib) (0.12.1)\n",
            "Requirement already satisfied: fonttools>=4.22.0 in /usr/local/lib/python3.10/dist-packages (from matplotlib) (4.53.1)\n",
            "Requirement already satisfied: kiwisolver>=1.0.1 in /usr/local/lib/python3.10/dist-packages (from matplotlib) (1.4.7)\n",
            "Requirement already satisfied: numpy>=1.20 in /usr/local/lib/python3.10/dist-packages (from matplotlib) (1.26.4)\n",
            "Requirement already satisfied: packaging>=20.0 in /usr/local/lib/python3.10/dist-packages (from matplotlib) (24.1)\n",
            "Requirement already satisfied: pillow>=6.2.0 in /usr/local/lib/python3.10/dist-packages (from matplotlib) (10.4.0)\n",
            "Requirement already satisfied: pyparsing>=2.3.1 in /usr/local/lib/python3.10/dist-packages (from matplotlib) (3.1.4)\n",
            "Requirement already satisfied: python-dateutil>=2.7 in /usr/local/lib/python3.10/dist-packages (from matplotlib) (2.8.2)\n",
            "Requirement already satisfied: six>=1.5 in /usr/local/lib/python3.10/dist-packages (from python-dateutil>=2.7->matplotlib) (1.16.0)\n",
            "train acc, test acc | 0.21298333333333333, 0.2172\n",
            "train acc, test acc | 0.11236666666666667, 0.1135\n",
            "train acc, test acc | 0.11236666666666667, 0.1135\n"
          ]
        },
        {
          "output_type": "stream",
          "name": "stderr",
          "text": [
            "<ipython-input-41-a8bce8d1d44b>:13: RuntimeWarning: overflow encountered in exp\n",
            "  exp_a = np.exp(a)\n",
            "<ipython-input-41-a8bce8d1d44b>:15: RuntimeWarning: invalid value encountered in divide\n",
            "  y = exp_a / sum_exp_a\n"
          ]
        },
        {
          "output_type": "stream",
          "name": "stdout",
          "text": [
            "train acc, test acc | 0.09871666666666666, 0.098\n",
            "train acc, test acc | 0.09871666666666666, 0.098\n",
            "train acc, test acc | 0.09871666666666666, 0.098\n",
            "train acc, test acc | 0.09871666666666666, 0.098\n",
            "train acc, test acc | 0.09871666666666666, 0.098\n",
            "train acc, test acc | 0.09871666666666666, 0.098\n",
            "train acc, test acc | 0.09871666666666666, 0.098\n",
            "train acc, test acc | 0.09871666666666666, 0.098\n",
            "train acc, test acc | 0.09871666666666666, 0.098\n",
            "train acc, test acc | 0.09871666666666666, 0.098\n",
            "train acc, test acc | 0.09871666666666666, 0.098\n",
            "train acc, test acc | 0.09871666666666666, 0.098\n",
            "train acc, test acc | 0.09871666666666666, 0.098\n",
            "train acc, test acc | 0.09871666666666666, 0.098\n"
          ]
        },
        {
          "output_type": "display_data",
          "data": {
            "text/plain": [
              "<Figure size 640x480 with 1 Axes>"
            ],
            "image/png": "[encoded data removed]"
          },
          "metadata": {}
        }
      ]
    }
  ]
}