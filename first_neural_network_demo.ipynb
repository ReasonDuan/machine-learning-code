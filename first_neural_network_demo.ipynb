{
  "cells": [
    {
      "cell_type": "markdown",
      "metadata": {
        "id": "view-in-github",
        "colab_type": "text"
      },
      "source": [
        "<a href=\"https://colab.research.google.com/github/ReasonDuan/machine-learning-code/blob/main/first_neural_network_demo.ipynb\" target=\"_parent\"><img src=\"https://colab.research.google.com/assets/colab-badge.svg\" alt=\"Open In Colab\"/></a>"
      ]
    },
    {
      "cell_type": "markdown",
      "source": [
        "# 简单神经网络学习"
      ],
      "metadata": {
        "id": "ycj27fHFg5_S"
      }
    },
    {
      "cell_type": "markdown",
      "source": [
        "## 创建模型"
      ],
      "metadata": {
        "id": "X73LgC1Xhx02"
      }
    },
    {
      "cell_type": "code",
      "source": [
        "from tensorflow import keras\n",
        "model = keras.Sequential([keras.layers.Dense(units=1, input_shape=[1])])\n"
      ],
      "metadata": {
        "id": "90vUVkfKhBn7"
      },
      "execution_count": 1,
      "outputs": []
    },
    {
      "cell_type": "markdown",
      "source": [
        "## 设置优化函数以及损失函数"
      ],
      "metadata": {
        "id": "Xmm2Ihaih2Wr"
      }
    },
    {
      "cell_type": "code",
      "source": [
        "model.compile(optimizer='sgd', loss='mean_squared_error')"
      ],
      "metadata": {
        "id": "VejBpgtph1nD"
      },
      "execution_count": 2,
      "outputs": []
    },
    {
      "cell_type": "markdown",
      "source": [
        "## 设置训练数据"
      ],
      "metadata": {
        "id": "j3fDJBR1iQ0c"
      }
    },
    {
      "cell_type": "code",
      "source": [
        "import numpy as np\n",
        "xs = np.array([-1.0, 0.0, 1.0, 2.0, 3.0, 4.0], dtype=float)\n",
        "ys = np.array([-3.0, -1.0, 1.0, 3.0, 5.0, 7.0], dtype=float)"
      ],
      "metadata": {
        "id": "z9DCh-_FiUvD"
      },
      "execution_count": 3,
      "outputs": []
    },
    {
      "cell_type": "markdown",
      "source": [
        "## 执行训练"
      ],
      "metadata": {
        "id": "p8q76lFIjF4L"
      }
    },
    {
      "cell_type": "code",
      "source": [
        "model.fit(xs, ys, epochs=300)"
      ],
      "metadata": {
        "id": "bjxDLcIEjFB7"
      },
      "execution_count": null,
      "outputs": []
    },
    {
      "cell_type": "markdown",
      "source": [
        "## 进行预测"
      ],
      "metadata": {
        "id": "vm1bqFOCjVzz"
      }
    },
    {
      "cell_type": "code",
      "source": [
        "print(model.predict([18.0]))"
      ],
      "metadata": {
        "id": "p0xCkGF_jas8",
        "outputId": "b745aa50-913c-418d-aec6-e86471f45420",
        "colab": {
          "base_uri": "https://localhost:8080/"
        }
      },
      "execution_count": 12,
      "outputs": [
        {
          "output_type": "stream",
          "name": "stdout",
          "text": [
            "1/1 [==============================] - 0s 39ms/step\n",
            "[[34.96762]]\n"
          ]
        }
      ]
    }
  ],
  "metadata": {
    "colab": {
      "name": "欢迎使用 Colaboratory",
      "toc_visible": true,
      "provenance": [],
      "include_colab_link": true
    },
    "kernelspec": {
      "display_name": "Python 3",
      "name": "python3"
    }
  },
  "nbformat": 4,
  "nbformat_minor": 0
}