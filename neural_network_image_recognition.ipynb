{
  "cells": [
    {
      "cell_type": "markdown",
      "metadata": {
        "id": "view-in-github",
        "colab_type": "text"
      },
      "source": [
        "<a href=\"https://colab.research.google.com/github/ReasonDuan/machine-learning-code/blob/main/neural_network_image_recognition.ipynb\" target=\"_parent\"><img src=\"https://colab.research.google.com/assets/colab-badge.svg\" alt=\"Open In Colab\"/></a>"
      ]
    },
    {
      "cell_type": "markdown",
      "source": [
        "# 神经网络图片识别"
      ],
      "metadata": {
        "id": "ycj27fHFg5_S"
      }
    },
    {
      "cell_type": "markdown",
      "source": [
        "## 加载测试数据据"
      ],
      "metadata": {
        "id": "b9yLCQu3lTET"
      }
    },
    {
      "cell_type": "code",
      "source": [
        "import tensorflow as tf\n",
        "from tensorflow import keras\n",
        "fashion_mnist = keras.datasets.fashion_mnist\n",
        "(train_images, train_labels), (test_images, test_labels) = fashion_mnist.load_data()"
      ],
      "metadata": {
        "id": "90vUVkfKhBn7"
      },
      "execution_count": null,
      "outputs": []
    },
    {
      "cell_type": "markdown",
      "source": [
        "## 创建模型\n",
        "- 设置输入格式，28*28大小的图片\n",
        "- 128表示有128个函数， relu:线性整流函数\n",
        "- 10表示输出有10项，softmax选出集合中最大的数，10项中，最大的一个设置为1，其他为0"
      ],
      "metadata": {
        "id": "of1Q3Vagl3OT"
      }
    },
    {
      "cell_type": "code",
      "source": [
        "from keras.api._v2.keras import activations\n",
        "model = keras.Sequential([\n",
        "    keras.layers.Flatten(input_shape=(28, 28)),\n",
        "    keras.layers.Dense(128, activation=tf.nn.relu),\n",
        "    keras.layers.Dense(10, activation=tf.nn.softmax)\n",
        "    ])"
      ],
      "metadata": {
        "id": "lFF6TB1Fl67k"
      },
      "execution_count": 17,
      "outputs": []
    },
    {
      "cell_type": "markdown",
      "source": [
        "## 编译模型"
      ],
      "metadata": {
        "id": "9nDWwUxJoXUS"
      }
    },
    {
      "cell_type": "code",
      "source": [
        "model.compile(optimizer='adam', loss='sparse_categorical_crossentropy')"
      ],
      "metadata": {
        "id": "xd9B9hqnoahj"
      },
      "execution_count": 20,
      "outputs": []
    },
    {
      "cell_type": "markdown",
      "source": [
        "## 训练模型"
      ],
      "metadata": {
        "id": "AEAyU5fknppY"
      }
    },
    {
      "cell_type": "code",
      "source": [
        "model.fit(train_images, train_labels, epochs=5)"
      ],
      "metadata": {
        "id": "cA-1_w0Qnt2X"
      },
      "execution_count": null,
      "outputs": []
    },
    {
      "cell_type": "markdown",
      "source": [
        "## 测试模型"
      ],
      "metadata": {
        "id": "zckcfkNTp-1g"
      }
    },
    {
      "cell_type": "code",
      "source": [
        "test_loss, test_acc = model.evaluate(test_images, test_labels)"
      ],
      "metadata": {
        "id": "kVuY9aiTqDUx"
      },
      "execution_count": null,
      "outputs": []
    },
    {
      "cell_type": "markdown",
      "source": [
        "## 模型预测"
      ],
      "metadata": {
        "id": "sFxbvu8LqgKh"
      }
    },
    {
      "cell_type": "code",
      "source": [
        "predictions = model.predict(my_images)"
      ],
      "metadata": {
        "id": "Bxx24AS4qkcY"
      },
      "execution_count": null,
      "outputs": []
    }
  ],
  "metadata": {
    "colab": {
      "name": "欢迎使用 Colaboratory",
      "toc_visible": true,
      "provenance": [],
      "include_colab_link": true
    },
    "kernelspec": {
      "display_name": "Python 3",
      "name": "python3"
    }
  },
  "nbformat": 4,
  "nbformat_minor": 0
}