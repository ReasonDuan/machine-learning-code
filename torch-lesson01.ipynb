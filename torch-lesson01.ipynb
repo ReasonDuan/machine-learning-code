{
  "cells": [
    {
      "cell_type": "markdown",
      "metadata": {
        "id": "view-in-github",
        "colab_type": "text"
      },
      "source": [
        "<a href=\"https://colab.research.google.com/github/ReasonDuan/machine-learning-code/blob/main/torch-lesson01.ipynb\" target=\"_parent\"><img src=\"https://colab.research.google.com/assets/colab-badge.svg\" alt=\"Open In Colab\"/></a>"
      ]
    },
    {
      "cell_type": "markdown",
      "source": [
        "# Torch 学习脚本"
      ],
      "metadata": {
        "id": "9shLR59yZO9_"
      }
    },
    {
      "cell_type": "markdown",
      "source": [
        "### 基本操作\n",
        "torch 默认的数据类型为FloatTensor\n",
        "randn 函数可以随机生成指定维度向量"
      ],
      "metadata": {
        "id": "pfvOkkGZZcX-"
      }
    },
    {
      "cell_type": "code",
      "source": [
        "import torch\n",
        "a = torch.randn(2, 3)\n",
        "a.type()\n",
        "isinstance(a, torch.FloatTensor)"
      ],
      "metadata": {
        "id": "nIwmNDn-Bh0Q",
        "outputId": "812198de-f370-45ea-feea-9a3470cd2172",
        "colab": {
          "base_uri": "https://localhost:8080/"
        }
      },
      "execution_count": null,
      "outputs": [
        {
          "output_type": "execute_result",
          "data": {
            "text/plain": [
              "True"
            ]
          },
          "metadata": {},
          "execution_count": 6
        }
      ]
    },
    {
      "cell_type": "code",
      "source": [
        "isinstance(a, torch.cuda.FloatTensor)"
      ],
      "metadata": {
        "id": "NOCSB9ZtCiCz",
        "outputId": "e34f2f59-b1bf-4cba-a6e1-f5832601af03",
        "colab": {
          "base_uri": "https://localhost:8080/"
        }
      },
      "execution_count": null,
      "outputs": [
        {
          "output_type": "execute_result",
          "data": {
            "text/plain": [
              "False"
            ]
          },
          "metadata": {},
          "execution_count": 7
        }
      ]
    },
    {
      "cell_type": "markdown",
      "source": [
        "将数据搬运到GPU上"
      ],
      "metadata": {
        "id": "kzCSLGClC7XQ"
      }
    },
    {
      "cell_type": "code",
      "source": [
        "a=a.cuda()\n",
        "isinstance(a, torch.cuda.FloatTensor)"
      ],
      "metadata": {
        "id": "O7dnPb2RCrd2"
      },
      "execution_count": null,
      "outputs": []
    },
    {
      "cell_type": "markdown",
      "source": [
        "shape获取标量维度"
      ],
      "metadata": {
        "id": "u30hHMXODcqz"
      }
    },
    {
      "cell_type": "code",
      "source": [
        "b = torch.tensor(2.2)\n",
        "b.shape"
      ],
      "metadata": {
        "id": "C1LrAekgDbm7",
        "outputId": "1569fdd0-0ec2-417a-e82f-ce30f64e6e12",
        "colab": {
          "base_uri": "https://localhost:8080/"
        }
      },
      "execution_count": null,
      "outputs": [
        {
          "output_type": "execute_result",
          "data": {
            "text/plain": [
              "torch.Size([])"
            ]
          },
          "metadata": {},
          "execution_count": 10
        }
      ]
    },
    {
      "cell_type": "code",
      "source": [
        "torch.randn(3,3)"
      ],
      "metadata": {
        "id": "bOVI7fV8d4fA",
        "outputId": "2dd4cebb-c58f-44b8-8f13-715ce51a357d",
        "colab": {
          "base_uri": "https://localhost:8080/"
        }
      },
      "execution_count": null,
      "outputs": [
        {
          "output_type": "execute_result",
          "data": {
            "text/plain": [
              "tensor([[-0.3332,  1.7246,  0.4766],\n",
              "        [ 0.8593, -1.3052, -0.3515],\n",
              "        [ 0.8213, -0.7560, -0.3105]])"
            ]
          },
          "metadata": {},
          "execution_count": 13
        }
      ]
    },
    {
      "cell_type": "code",
      "source": [
        "torch.normal(mean=torch.full([10],0), std=torch.arange(1, 0, -0.1))"
      ],
      "metadata": {
        "id": "Vopg922Kecx8",
        "outputId": "f160e139-21bf-429a-e42f-25faa5161495",
        "colab": {
          "base_uri": "https://localhost:8080/",
          "height": 165
        }
      },
      "execution_count": null,
      "outputs": [
        {
          "output_type": "error",
          "ename": "RuntimeError",
          "evalue": "ignored",
          "traceback": [
            "\u001b[0;31m---------------------------------------------------------------------------\u001b[0m",
            "\u001b[0;31mRuntimeError\u001b[0m                              Traceback (most recent call last)",
            "\u001b[0;32m<ipython-input-16-3d01f0f32e3a>\u001b[0m in \u001b[0;36m<cell line: 1>\u001b[0;34m()\u001b[0m\n\u001b[0;32m----> 1\u001b[0;31m \u001b[0mtorch\u001b[0m\u001b[0;34m.\u001b[0m\u001b[0mnormal\u001b[0m\u001b[0;34m(\u001b[0m\u001b[0mmean\u001b[0m\u001b[0;34m=\u001b[0m\u001b[0mtorch\u001b[0m\u001b[0;34m.\u001b[0m\u001b[0mfull\u001b[0m\u001b[0;34m(\u001b[0m\u001b[0;34m[\u001b[0m\u001b[0;36m10\u001b[0m\u001b[0;34m]\u001b[0m\u001b[0;34m,\u001b[0m\u001b[0;36m0\u001b[0m\u001b[0;34m)\u001b[0m\u001b[0;34m,\u001b[0m \u001b[0mstd\u001b[0m\u001b[0;34m=\u001b[0m\u001b[0mtorch\u001b[0m\u001b[0;34m.\u001b[0m\u001b[0marange\u001b[0m\u001b[0;34m(\u001b[0m\u001b[0;36m1\u001b[0m\u001b[0;34m,\u001b[0m \u001b[0;36m0\u001b[0m\u001b[0;34m,\u001b[0m \u001b[0;34m-\u001b[0m\u001b[0;36m0.1\u001b[0m\u001b[0;34m)\u001b[0m\u001b[0;34m)\u001b[0m\u001b[0;34m\u001b[0m\u001b[0;34m\u001b[0m\u001b[0m\n\u001b[0m",
            "\u001b[0;31mRuntimeError\u001b[0m: \"normal_kernel_cpu\" not implemented for 'Long'"
          ]
        }
      ]
    },
    {
      "cell_type": "code",
      "source": [
        "torch.full([2,3],6)"
      ],
      "metadata": {
        "id": "k7u3uYQffIWT",
        "outputId": "4c5722a8-ac91-457f-8ebe-a2fabb690988",
        "colab": {
          "base_uri": "https://localhost:8080/"
        }
      },
      "execution_count": null,
      "outputs": [
        {
          "output_type": "execute_result",
          "data": {
            "text/plain": [
              "tensor([[6, 6, 6],\n",
              "        [6, 6, 6]])"
            ]
          },
          "metadata": {},
          "execution_count": 17
        }
      ]
    },
    {
      "cell_type": "code",
      "source": [
        "torch.full([2], 5)"
      ],
      "metadata": {
        "id": "ON0IgIGCfOdr",
        "outputId": "3706dcfa-5341-4fbd-a5ac-aec480a8282b",
        "colab": {
          "base_uri": "https://localhost:8080/"
        }
      },
      "execution_count": null,
      "outputs": [
        {
          "output_type": "execute_result",
          "data": {
            "text/plain": [
              "tensor([5, 5])"
            ]
          },
          "metadata": {},
          "execution_count": 18
        }
      ]
    },
    {
      "cell_type": "code",
      "source": [
        "torch.arange(0,10)"
      ],
      "metadata": {
        "id": "vHvuEUYxfeQ8",
        "outputId": "c47480c4-951e-4898-a669-c0518c11cb43",
        "colab": {
          "base_uri": "https://localhost:8080/"
        }
      },
      "execution_count": null,
      "outputs": [
        {
          "output_type": "execute_result",
          "data": {
            "text/plain": [
              "tensor([0, 1, 2, 3, 4, 5, 6, 7, 8, 9])"
            ]
          },
          "metadata": {},
          "execution_count": 19
        }
      ]
    },
    {
      "cell_type": "code",
      "source": [
        "torch.arange(0,10,2)"
      ],
      "metadata": {
        "id": "JdWqOhinfotM",
        "outputId": "669b0249-a362-4ce1-ac75-a1cd8132ef91",
        "colab": {
          "base_uri": "https://localhost:8080/"
        }
      },
      "execution_count": null,
      "outputs": [
        {
          "output_type": "execute_result",
          "data": {
            "text/plain": [
              "tensor([0, 2, 4, 6, 8])"
            ]
          },
          "metadata": {},
          "execution_count": 20
        }
      ]
    },
    {
      "cell_type": "markdown",
      "source": [
        "linspace(a,b, steps=n)从a到b平分n个"
      ],
      "metadata": {
        "id": "MnnIViWKa92P"
      }
    },
    {
      "cell_type": "code",
      "source": [
        "torch.linspace(0,9, steps=10)"
      ],
      "metadata": {
        "id": "wa6wVW5ngBm3",
        "outputId": "2fb515f7-deb5-4b4f-bf01-f7e52facb6f2",
        "colab": {
          "base_uri": "https://localhost:8080/"
        }
      },
      "execution_count": null,
      "outputs": [
        {
          "output_type": "execute_result",
          "data": {
            "text/plain": [
              "tensor([0., 1., 2., 3., 4., 5., 6., 7., 8., 9.])"
            ]
          },
          "metadata": {},
          "execution_count": 21
        }
      ]
    },
    {
      "cell_type": "code",
      "source": [
        "torch.logspace(0, -1, steps=10)"
      ],
      "metadata": {
        "id": "CW4XrtrKgKzV",
        "outputId": "1c99096c-53e6-4520-c5a8-fadc607643d2",
        "colab": {
          "base_uri": "https://localhost:8080/"
        }
      },
      "execution_count": null,
      "outputs": [
        {
          "output_type": "execute_result",
          "data": {
            "text/plain": [
              "tensor([1.0000, 0.7743, 0.5995, 0.4642, 0.3594, 0.2783, 0.2154, 0.1668, 0.1292,\n",
              "        0.1000])"
            ]
          },
          "metadata": {},
          "execution_count": 24
        }
      ]
    },
    {
      "cell_type": "markdown",
      "source": [
        "randperm(n) 随机生成0到n-1个整数"
      ],
      "metadata": {
        "id": "AA-JwdajaX3_"
      }
    },
    {
      "cell_type": "code",
      "source": [
        "torch.randperm(10)"
      ],
      "metadata": {
        "id": "cRdOP9zUhAv6",
        "outputId": "c27910c4-8340-4e89-cac2-27b3e97a285b",
        "colab": {
          "base_uri": "https://localhost:8080/"
        }
      },
      "execution_count": null,
      "outputs": [
        {
          "output_type": "execute_result",
          "data": {
            "text/plain": [
              "tensor([2, 6, 0, 1, 9, 7, 5, 3, 8, 4])"
            ]
          },
          "metadata": {},
          "execution_count": 25
        }
      ]
    }
  ],
  "metadata": {
    "colab": {
      "name": "欢迎使用 Colaboratory",
      "toc_visible": true,
      "provenance": [],
      "include_colab_link": true
    },
    "kernelspec": {
      "display_name": "Python 3",
      "name": "python3"
    }
  },
  "nbformat": 4,
  "nbformat_minor": 0
}